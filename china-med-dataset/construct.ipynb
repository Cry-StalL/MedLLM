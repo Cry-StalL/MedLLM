{
 "cells": [
  {
   "cell_type": "markdown",
   "metadata": {},
   "source": [
    "## 下载数据集到本地"
   ]
  },
  {
   "cell_type": "code",
   "execution_count": 4,
   "metadata": {},
   "outputs": [
    {
     "name": "stdout",
     "output_type": "stream",
     "text": [
      "Warning: Looks like you're using an outdated `kagglehub` version, please consider updating (latest version: 0.3.6)\n",
      "Downloading from https://www.kaggle.com/api/v1/datasets/download/naturebalance/chinesemedicalcollection?dataset_version_number=22...\n"
     ]
    },
    {
     "name": "stderr",
     "output_type": "stream",
     "text": [
      "100%|██████████| 186M/186M [00:24<00:00, 8.03MB/s] "
     ]
    },
    {
     "name": "stdout",
     "output_type": "stream",
     "text": [
      "Extracting model files...\n"
     ]
    },
    {
     "name": "stderr",
     "output_type": "stream",
     "text": [
      "\n"
     ]
    },
    {
     "name": "stdout",
     "output_type": "stream",
     "text": [
      "Path to dataset files: /home/jacko/.cache/kagglehub/datasets/naturebalance/chinesemedicalcollection/versions/22\n"
     ]
    }
   ],
   "source": [
    "import kagglehub\n",
    "\n",
    "# Download latest version\n",
    "path = kagglehub.dataset_download(\"naturebalance/chinesemedicalcollection\")\n",
    "\n",
    "print(\"Path to dataset files:\", path) # 打印数据集文件路径"
   ]
  },
  {
   "cell_type": "markdown",
   "metadata": {},
   "source": [
    "## 将所有数据移动到当前文件夹下，方便后续处理"
   ]
  },
  {
   "cell_type": "code",
   "execution_count": 5,
   "metadata": {},
   "outputs": [],
   "source": [
    "!mv $path ./"
   ]
  },
  {
   "cell_type": "markdown",
   "metadata": {},
   "source": [
    "## 读取所有的书籍索引信息"
   ]
  },
  {
   "cell_type": "code",
   "execution_count": 6,
   "metadata": {},
   "outputs": [
    {
     "name": "stdout",
     "output_type": "stream",
     "text": [
      "[[0 '神农本草经']\n",
      " [1 '吴普本草']\n",
      " [2 '本草经集注']\n",
      " ...\n",
      " [697 '止园医话']\n",
      " [698 '脉诀阐微 脉学阐微']\n",
      " [699 '名老中医之路']]\n"
     ]
    }
   ],
   "source": [
    "import pandas as pd\n",
    "import numpy as np\n",
    "\n",
    "namelist = pd.read_csv('./22/nameList.txt')\n",
    "\n",
    "namelistnp = np.array(namelist)\n",
    "\n",
    "print(namelistnp)"
   ]
  },
  {
   "cell_type": "markdown",
   "metadata": {},
   "source": [
    "## 过滤不需要的书籍"
   ]
  },
  {
   "cell_type": "code",
   "execution_count": 7,
   "metadata": {},
   "outputs": [
    {
     "name": "stdout",
     "output_type": "stream",
     "text": [
      "[[346, '黄帝明堂灸经'], [430, '黄帝内经素问集注'], [431, '黄帝内经灵枢集注'], [435, '黄帝素问直解'], [437, '黄帝内经素问'], [438, '黄帝内经素问校义'], [439, '黄帝内经太素'], [451, '黄帝内经素问遗篇'], [453, '黄帝素问宣明论方'], [457, '伤寒论'], [458, '伤寒捷诀'], [459, '伤寒总病论'], [461, '注解伤寒论'], [462, '伤寒九十论'], [463, '伤寒百证歌'], [464, '伤寒发微论'], [465, '伤寒明理论'], [466, '仲景伤寒补亡论'], [467, '伤寒寻源'], [468, '伤寒直格'], [469, '伤寒标本心法类萃'], [470, '伤寒六书'], [471, '伤寒论条辨'], [472, '张卿子伤寒论'], [473, '伤寒证治准绳'], [474, '伤寒论注'], [475, '重订通俗伤寒论'], [476, '伤寒溯源集'], [477, '伤寒括要'], [478, '伤寒缵论'], [479, '伤寒贯珠集'], [480, '伤寒法祖'], [481, '伤寒大白'], [482, '伤寒悬解'], [483, '伤寒论类方'], [484, '伤寒论辩证广注'], [485, '伤寒论辑义'], [486, '伤寒医诀串解'], [487, '伤寒审证表'], [488, '伤寒补例'], [489, '敖氏伤寒金镜录'], [490, '伤寒舌鉴'], [492, '伤寒论翼'], [493, '伤寒附翼'], [494, '伤寒指掌'], [496, '河间伤寒心要'], [497, '刘河间伤寒医鉴'], [609, '伤寒论纲目'], [633, '证治准绳·伤寒'], [638, '订正仲景全书伤寒论注'], [646, '伤寒心法要诀'], [654, '伤寒辨要笺记'], [690, '黄帝内经十二经脉秘与应用']]\n"
     ]
    }
   ],
   "source": [
    "filterOut = []\n",
    "\n",
    "for it in namelistnp:\n",
    "    if \"黄帝\" in it[1] or \"伤寒\" in it[1]:\n",
    "        filterOut.append(list(it))\n",
    "\n",
    "print(filterOut)"
   ]
  },
  {
   "cell_type": "markdown",
   "metadata": {},
   "source": [
    "## 构建数据集"
   ]
  },
  {
   "cell_type": "code",
   "execution_count": 9,
   "metadata": {},
   "outputs": [
    {
     "name": "stdout",
     "output_type": "stream",
     "text": [
      "Unsolved content in file: ./22/chinesemedicalbook/ChineseMedicalBook/654.txt\n",
      "Unsolved content in file: ./22/chinesemedicalbook/ChineseMedicalBook/690.txt\n",
      "Done!\n"
     ]
    }
   ],
   "source": [
    "import os\n",
    "import re\n",
    "import json\n",
    "\n",
    "basePath = \"./22/chinesemedicalbook/ChineseMedicalBook\"\n",
    "pattern = re.compile(\"<篇名>(.*?)<目录>\", re.DOTALL)\n",
    "jsonPath = \"./chinesemedicalbook.json\"\n",
    "\n",
    "jsonList = []\n",
    "\n",
    "def get_content(text):\n",
    "    match = pattern.findall(text)\n",
    "    if len(match) == 0:\n",
    "        return None\n",
    "    return match\n",
    "   \n",
    "for it in filterOut:\n",
    "    path = os.path.join(basePath, str(it[0])+\".txt\")\n",
    "    with open(path, \"r\") as f:\n",
    "        text = f.read()\n",
    "        content = get_content(text)\n",
    "        if content is None:\n",
    "            print(\"Unsolved content in file:\", path)\n",
    "            continue\n",
    "        for i in range(1, len(content)):\n",
    "            content[i] = content[i].strip()\n",
    "            contentList = content[i].split(\"\\n\")\n",
    "            for j in range(len(contentList)):\n",
    "                contentList[j] = contentList[j].strip()\n",
    "            contentMerge = contentList[0] + \"\\n\" + \"\".join(contentList[1:])\n",
    "            contentMerge = re.sub(r'\\\\x(.*?)\\\\x', r'<\\1>', contentMerge)\n",
    "            contentMerge = re.sub(r'\\\\r(.*?)\\\\r', r'', contentMerge)\n",
    "            jsonList.append({\"text\" : contentMerge})\n",
    "            # print(contentMerge)\n",
    "\n",
    "with open(jsonPath, \"w\") as f:\n",
    "    f.write(json.dumps(jsonList, ensure_ascii=False))\n",
    "    print(\"Done!\")"
   ]
  }
 ],
 "metadata": {
  "kernelspec": {
   "display_name": "base",
   "language": "python",
   "name": "python3"
  },
  "language_info": {
   "codemirror_mode": {
    "name": "ipython",
    "version": 3
   },
   "file_extension": ".py",
   "mimetype": "text/x-python",
   "name": "python",
   "nbconvert_exporter": "python",
   "pygments_lexer": "ipython3",
   "version": "3.12.7"
  }
 },
 "nbformat": 4,
 "nbformat_minor": 2
}
